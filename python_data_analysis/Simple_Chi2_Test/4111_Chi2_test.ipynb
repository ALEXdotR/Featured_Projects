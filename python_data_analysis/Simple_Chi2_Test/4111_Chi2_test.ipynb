{
 "cells": [
  {
   "cell_type": "code",
   "execution_count": 111,
   "metadata": {},
   "outputs": [],
   "source": [
    "import pandas as pd\n",
    "import numpy as np\n",
    "from scipy import stats"
   ]
  },
  {
   "cell_type": "code",
   "execution_count": 112,
   "metadata": {},
   "outputs": [],
   "source": [
    "xlsx_path = \"datasets/4111_project/Book1.xlsx\"\n",
    "\n",
    "dataset = pd.read_excel(xlsx_path)"
   ]
  },
  {
   "cell_type": "code",
   "execution_count": 113,
   "metadata": {},
   "outputs": [],
   "source": [
    "dataset_mod = dataset.iloc[:,7:14]\n",
    "pop = dataset.iloc[:,4]"
   ]
  },
  {
   "cell_type": "code",
   "execution_count": 114,
   "metadata": {},
   "outputs": [],
   "source": [
    "dm_np=dataset_mod.to_numpy()\n",
    "pop_np=pop.to_numpy()"
   ]
  },
  {
   "cell_type": "code",
   "execution_count": 115,
   "metadata": {},
   "outputs": [],
   "source": [
    "pop_t=np.transpose(pop_np[np.newaxis,:])"
   ]
  },
  {
   "cell_type": "code",
   "execution_count": 116,
   "metadata": {},
   "outputs": [],
   "source": [
    "ratio=dm_np/pop_t"
   ]
  },
  {
   "cell_type": "code",
   "execution_count": 117,
   "metadata": {},
   "outputs": [
    {
     "data": {
      "text/plain": [
       "array([[0.04013664, 0.12503558, 0.11421862, ..., 0.05515229, 0.03081412,\n",
       "        0.30002847],\n",
       "       [0.02873335, 0.04244829, 0.04958912, ..., 0.05775007, 0.02935676,\n",
       "        0.45899688],\n",
       "       [0.01630322, 0.02424714, 0.05555556, ..., 0.07440291, 0.03966771,\n",
       "        0.41542056],\n",
       "       ...,\n",
       "       [0.06918344, 0.08165641, 0.10693497, ..., 0.0420755 , 0.03475802,\n",
       "        0.24280725],\n",
       "       [0.11466802, 0.13685637, 0.19029472, ..., 0.0298103 , 0.0276084 ,\n",
       "        0.0908706 ],\n",
       "       [0.12897914, 0.18505306, 0.12989389, ..., 0.06055617, 0.03210757,\n",
       "        0.064764  ]])"
      ]
     },
     "execution_count": 117,
     "metadata": {},
     "output_type": "execute_result"
    }
   ],
   "source": [
    "ratio"
   ]
  },
  {
   "cell_type": "code",
   "execution_count": 127,
   "metadata": {},
   "outputs": [],
   "source": [
    "final=ratio[:,4:7]"
   ]
  },
  {
   "cell_type": "code",
   "execution_count": 129,
   "metadata": {},
   "outputs": [
    {
     "data": {
      "text/plain": [
       "array([[0.05515229, 0.03081412, 0.30002847],\n",
       "       [0.05775007, 0.02935676, 0.45899688],\n",
       "       [0.07440291, 0.03966771, 0.41542056],\n",
       "       ...,\n",
       "       [0.0420755 , 0.03475802, 0.24280725],\n",
       "       [0.0298103 , 0.0276084 , 0.0908706 ],\n",
       "       [0.06055617, 0.03210757, 0.064764  ]])"
      ]
     },
     "execution_count": 129,
     "metadata": {},
     "output_type": "execute_result"
    }
   ],
   "source": [
    "final"
   ]
  },
  {
   "cell_type": "code",
   "execution_count": 131,
   "metadata": {},
   "outputs": [
    {
     "name": "stdout",
     "output_type": "stream",
     "text": [
      "Chi-squared =  6.19382809686065 \n",
      " p-value =  1.0 \n",
      " degree of freedom =  822 \n",
      "\n"
     ]
    }
   ],
   "source": [
    "\n",
    "chi2, p, dof, ex = stats.chi2_contingency(final)\n",
    "print(\"Chi-squared = \",chi2,\"\\n\",\n",
    "    \"p-value = \",p,\"\\n\",\n",
    "      \"degree of freedom = \",dof,\"\\n\")\n"
   ]
  }
 ],
 "metadata": {
  "kernelspec": {
   "display_name": "Python 3",
   "language": "python",
   "name": "python3"
  },
  "language_info": {
   "codemirror_mode": {
    "name": "ipython",
    "version": 3
   },
   "file_extension": ".py",
   "mimetype": "text/x-python",
   "name": "python",
   "nbconvert_exporter": "python",
   "pygments_lexer": "ipython3",
   "version": "3.8.5"
  }
 },
 "nbformat": 4,
 "nbformat_minor": 4
}
